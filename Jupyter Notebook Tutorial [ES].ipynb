{
 "cells": [
  {
   "cell_type": "markdown",
   "id": "922e36dd",
   "metadata": {},
   "source": [
    "Los Jupyter Notebooks son una manera muy cómoda de trabajar con Python. Los notebooks se dividen en cells (celdas), cada celda puede contener texto (como esta) o código (como la siguiente). Lo que mola de esta forma de trabajar es que te permite escribir pequeñas partes del código en cada celda, **y mantener el valor de las variables**.\n",
    "\n",
    "Vamos a ver un ejemplo:"
   ]
  },
  {
   "cell_type": "code",
   "execution_count": 1,
   "id": "a697ed92",
   "metadata": {},
   "outputs": [],
   "source": [
    "# Aquí necesito escribir el texto como un comentario de Python, sino me dará error de sintaxis\n",
    "# Vamos a definir una variable\n",
    "\n",
    "test_variable = 'Esto es un texto de prueba'\n",
    "\n",
    "# Ahora selecciona esta celda y haz Ctrl + Enter"
   ]
  },
  {
   "cell_type": "markdown",
   "id": "a7110cc0",
   "metadata": {},
   "source": [
    "Si has apretado Ctrl + Enter (o has ido al menú Cell -> Run Cells) el código anterior se habrá ejecutado. Verás que en la esquina superior izquierda aparece la palabra \"In\" (dentro) con corchetes \"[]\", si hay un número entre los corchetes significa que el código se ha ejecutado.\n",
    "\n",
    "El número entre los corchetes es el id de la ejecución, siempre se incrementa de 1 en 1, lo puedes probar ejecutando la misma celda otra vez (selecciona la celda y aprieta Ctrl + Enter).\n",
    "\n",
    "Lo guay es que aunque `test_variable` se haya definido en otra celda, ahora la podemos leer desde cualquier celda:"
   ]
  },
  {
   "cell_type": "code",
   "execution_count": 2,
   "id": "09357ff4",
   "metadata": {},
   "outputs": [
    {
     "name": "stdout",
     "output_type": "stream",
     "text": [
      "El valor de la variable test_variable es: Esto es un texto de prueba\n"
     ]
    }
   ],
   "source": [
    "print(f\"El valor de la variable test_variable es: {test_variable}\")"
   ]
  },
  {
   "cell_type": "markdown",
   "id": "7aa50a6e",
   "metadata": {},
   "source": [
    "Si ejecutas la celda anterior deberías de ver el texto \"El valor de la variable test_variable es: Esto es un texto de prueba\" justo debajo de la celda. Además, podemos definir funciones y usarlas más adelante:"
   ]
  },
  {
   "cell_type": "code",
   "execution_count": 3,
   "id": "4e76b4b9",
   "metadata": {},
   "outputs": [],
   "source": [
    "# Definimos una función de prueba\n",
    "def di_mi_nombre(nombre):\n",
    "    print(f\"Tu nombre es {nombre}\")"
   ]
  },
  {
   "cell_type": "code",
   "execution_count": 4,
   "id": "fb57d0c0",
   "metadata": {},
   "outputs": [
    {
     "name": "stdout",
     "output_type": "stream",
     "text": [
      "Tu nombre es MLPills\n"
     ]
    }
   ],
   "source": [
    "# Ejecutamos la función\n",
    "nombre = \"MLPills\"\n",
    "di_mi_nombre(nombre)"
   ]
  },
  {
   "cell_type": "markdown",
   "id": "75260506",
   "metadata": {},
   "source": [
    "¡Puedes ejecutar cada celda tantas veces como quieras! Vamos a verlo con un juego sencillo, ejecuta la siguiente celda tantas veces como sea necesario para ganar el juego:"
   ]
  },
  {
   "cell_type": "code",
   "execution_count": 5,
   "id": "7521c2e3",
   "metadata": {},
   "outputs": [
    {
     "name": "stdout",
     "output_type": "stream",
     "text": [
      "jajajajajaja, ¿de verdad creías que mi número secreto era el 2?\n"
     ]
    }
   ],
   "source": [
    "# Puedes importar librerías cuando quieras, aunque normalmente se importan en la primera celda\n",
    "import random\n",
    "\n",
    "# Generamos un número al azar en el intervalo [0-10]\n",
    "numero_al_azar = random.randint(0, 10)\n",
    "\n",
    "# Número súper secreto que tienes que adivinar\n",
    "numero_secreto = 3*1 + (4**8+523123-123123)*(9 - 3**2)\n",
    "\n",
    "# Si numero_al_azar es igual al numero_secreto, tú ganas\n",
    "if numero_al_azar == numero_secreto:\n",
    "    print(f\"¡Wow! ¡{nombre} eres un verdadero hacker! ¿Cómo supiste que mi número secreto era el {numero_secreto}?\")\n",
    "else:\n",
    "    print(f\"jajajajajaja, ¿de verdad creías que mi número secreto era el {numero_al_azar}?\")"
   ]
  },
  {
   "cell_type": "markdown",
   "id": "0b4ce65f",
   "metadata": {},
   "source": [
    "Los Jupyter Notebooks pueden leer y escribir del disco, al fin y al cabo se ejecutan en tu ordenador:"
   ]
  },
  {
   "cell_type": "code",
   "execution_count": 6,
   "id": "6b07ddf9",
   "metadata": {},
   "outputs": [
    {
     "name": "stdout",
     "output_type": "stream",
     "text": [
      "[0]: Esta es la primera línea del texto de ejemplo.\n",
      "[1]: Los Jupyter Notebooks pueden acceder a archivos relativos a ellos.\n",
      "[2]: ¡Puedes hacer esto con cualquier tipo de datos, como json o imágenes!\n"
     ]
    }
   ],
   "source": [
    "# Abre un txt que está en el mismo directorio que este Notebook\n",
    "with open('text_es.txt', 'r') as f:\n",
    "    lineas = f.readlines()\n",
    "    \n",
    "for numero_de_linea, linea in enumerate(lineas):\n",
    "    # Quitamos el \\n\n",
    "    linea = linea.strip()\n",
    "    print(f\"[{numero_de_linea}]: {linea}\")\n"
   ]
  },
  {
   "cell_type": "markdown",
   "id": "1351105c",
   "metadata": {},
   "source": [
    "Para acabar, has de saber que este Notebook tiene acceso a todas las librerías que tienes instaladas en tu entorno virtual:"
   ]
  },
  {
   "cell_type": "code",
   "execution_count": 7,
   "id": "04a3ebbb",
   "metadata": {
    "scrolled": true
   },
   "outputs": [
    {
     "name": "stdout",
     "output_type": "stream",
     "text": [
      "['absl-py==1.3.0', 'anyio==3.6.2', 'appdirs==1.4.4', 'argon2-cffi-bindings==21.2.0', 'argon2-cffi==21.3.0', 'asttokens==2.2.1', 'astunparse==1.6.3', 'attrs==22.2.0', 'backcall==0.2.0', 'beautifulsoup4==4.11.1', 'bleach==5.0.1', 'cachetools==5.2.0', 'certifi==2022.12.7', 'cffi==1.15.1', 'charset-normalizer==2.1.1', 'comm==0.1.2', 'contourpy==1.0.7', 'cycler==0.11.0', 'debugpy==1.6.5', 'decorator==5.1.1', 'defusedxml==0.7.1', 'entrypoints==0.4', 'executing==1.2.0', 'fastjsonschema==2.16.2', 'flatbuffers==22.12.6', 'fonttools==4.38.0', 'gast==0.4.0', 'google-auth-oauthlib==0.4.6', 'google-auth==2.15.0', 'google-pasta==0.2.0', 'grpcio==1.51.1', 'h5py==3.7.0', 'idna==3.4', 'importlib-metadata==5.2.0', 'importlib-resources==5.10.2', 'ipykernel==6.20.2', 'ipython-genutils==0.2.0', 'ipython==8.8.0', 'jedi==0.18.2', 'jinja2==3.1.2', 'jsonschema==4.17.3', 'jupyter-client==7.4.9', 'jupyter-core==5.1.3', 'jupyter-events==0.6.3', 'jupyter-server-terminals==0.4.4', 'jupyter-server==2.1.0', 'jupyterlab-pygments==0.2.2', 'keras==2.11.0', 'kiwisolver==1.4.4', 'libclang==14.0.6', 'markdown==3.4.1', 'markupsafe==2.1.1', 'matplotlib-inline==0.1.6', 'matplotlib==3.6.3', 'mistune==2.0.4', 'nbclassic==0.4.8', 'nbclient==0.7.2', 'nbconvert==7.2.8', 'nbformat==5.7.3', 'nest-asyncio==1.5.6', 'notebook-shim==0.2.2', 'notebook==6.5.2', 'numpy==1.24.0', 'oauthlib==3.2.2', 'opt-einsum==3.3.0', 'packaging==22.0', 'pandas==1.5.2', 'pandocfilters==1.5.0', 'parso==0.8.3', 'pexpect==4.8.0', 'pickleshare==0.7.5', 'pillow==9.4.0', 'pip==20.0.2', 'pkg-resources==0.0.0', 'pkgutil-resolve-name==1.3.10', 'platformdirs==2.6.2', 'pooch==1.6.0', 'prometheus-client==0.15.0', 'prompt-toolkit==3.0.36', 'protobuf==3.19.6', 'psutil==5.9.4', 'ptyprocess==0.7.0', 'pure-eval==0.2.2', 'pyasn1-modules==0.2.8', 'pyasn1==0.4.8', 'pycparser==2.21', 'pygments==2.14.0', 'pyparsing==3.0.9', 'pyrsistent==0.19.3', 'python-dateutil==2.8.2', 'python-json-logger==2.0.4', 'pytz==2022.7', 'pyyaml==6.0', 'pyzmq==25.0.0', 'requests-oauthlib==1.3.1', 'requests==2.28.1', 'rfc3339-validator==0.1.4', 'rfc3986-validator==0.1.1', 'rsa==4.9', 'scipy==1.10.0', 'send2trash==1.8.0', 'setuptools==44.0.0', 'six==1.16.0', 'sniffio==1.3.0', 'soupsieve==2.3.2.post1', 'stack-data==0.6.2', 'tensorboard-data-server==0.6.1', 'tensorboard-plugin-wit==1.8.1', 'tensorboard==2.11.0', 'tensorflow-estimator==2.11.0', 'tensorflow-io-gcs-filesystem==0.29.0', 'tensorflow==2.11.0', 'termcolor==2.1.1', 'terminado==0.17.1', 'tinycss2==1.2.1', 'tornado==6.2', 'traitlets==5.8.1', 'typing-extensions==4.4.0', 'urllib3==1.26.13', 'wcwidth==0.2.6', 'webencodings==0.5.1', 'websocket-client==1.4.2', 'werkzeug==2.2.2', 'wheel==0.38.4', 'wrapt==1.14.1', 'zipp==3.11.0']\n"
     ]
    }
   ],
   "source": [
    "# Este código devuelve una lista de todo lo que tienes instalado en tu virtualenv\n",
    "import pkg_resources\n",
    "\n",
    "installed_packages = pkg_resources.working_set\n",
    "installed_packages_list = sorted([\"%s==%s\" % (i.key, i.version) for i in installed_packages])\n",
    "\n",
    "print(installed_packages_list)"
   ]
  },
  {
   "cell_type": "markdown",
   "id": "a89b7f50",
   "metadata": {},
   "source": [
    "Vamos a usar mucho las Jupyter Notebooks en nuestros tutoriales, ¡prueba a usarlas! Para añadir una celda puedes ir al menú Insert -> Insert Cell Below\n",
    "\n",
    "¡Pásalo bien!"
   ]
  }
 ],
 "metadata": {
  "kernelspec": {
   "display_name": "Python 3 (ipykernel)",
   "language": "python",
   "name": "python3"
  },
  "language_info": {
   "codemirror_mode": {
    "name": "ipython",
    "version": 3
   },
   "file_extension": ".py",
   "mimetype": "text/x-python",
   "name": "python",
   "nbconvert_exporter": "python",
   "pygments_lexer": "ipython3",
   "version": "3.8.10"
  }
 },
 "nbformat": 4,
 "nbformat_minor": 5
}
