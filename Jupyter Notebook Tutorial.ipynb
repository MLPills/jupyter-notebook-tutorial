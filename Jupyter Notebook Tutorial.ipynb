{
 "cells": [
  {
   "cell_type": "markdown",
   "id": "f1a12960",
   "metadata": {},
   "source": [
    "Jupyter notebooks are very handy to work with Python. The Notebooks are divided into cells, each cell can contain text (such as this one) or code (such as the next one). The cool thing about this is that it allows you to write small parts of your code on each cell, **while keeping the value of the variables**.\n",
    "\n",
    "Let's try an example:"
   ]
  },
  {
   "cell_type": "code",
   "execution_count": 1,
   "id": "f3ed454f",
   "metadata": {},
   "outputs": [],
   "source": [
    "# In here, I need to write the text as a Python comment, if not I will get a syntax error\n",
    "# Let's define a variable\n",
    "\n",
    "test_variable = 'This is a test string'\n",
    "\n",
    "# Now select this cell and press Ctrl + Enter"
   ]
  },
  {
   "cell_type": "markdown",
   "id": "ca330187",
   "metadata": {},
   "source": [
    "If you have pressed Ctrl + Enter (or you go to the menu Cell -> Run Cells) the previous code will run. You will notice that on the upper left corner of each block there is the word \"In\" with brakets \"[]\", if there is a number on those brakets it means that the code has executed.\n",
    "\n",
    "The number between the brackets is the id of the execution, it always increments by one, you can test that by running (selecting the cell, then Ctrl + Enter) the cell many times.\n",
    "\n",
    "The cool thing is that even though the `test_variable` was defined in another cell, we can now read it from all the cells:"
   ]
  },
  {
   "cell_type": "code",
   "execution_count": 2,
   "id": "a386a45c",
   "metadata": {},
   "outputs": [
    {
     "name": "stdout",
     "output_type": "stream",
     "text": [
      "The value of the variable test_variable is: This is a test string\n"
     ]
    }
   ],
   "source": [
    "print(f\"The value of the variable test_variable is: {test_variable}\")"
   ]
  },
  {
   "cell_type": "markdown",
   "id": "07e6d58d",
   "metadata": {},
   "source": [
    "If you run the cell above, you should see the printed statement \"The value of the variable test_variable is: This is a test string\" just under the table! That means that we can define functions and use them later:"
   ]
  },
  {
   "cell_type": "code",
   "execution_count": 3,
   "id": "f65d5d30",
   "metadata": {},
   "outputs": [],
   "source": [
    "# Define a test function\n",
    "def say_my_name(name):\n",
    "    print(f\"Your name is {name}\")"
   ]
  },
  {
   "cell_type": "code",
   "execution_count": 4,
   "id": "a7bd5657",
   "metadata": {},
   "outputs": [
    {
     "name": "stdout",
     "output_type": "stream",
     "text": [
      "Your name is MLPills\n"
     ]
    }
   ],
   "source": [
    "# Run the function\n",
    "name = \"MLPills\"\n",
    "say_my_name(name)"
   ]
  },
  {
   "cell_type": "markdown",
   "id": "d63e7f0b",
   "metadata": {},
   "source": [
    "You can run any cell as many times as you want! Lets ilustrate that with a simple game, run the cell as many times as necessary to win:"
   ]
  },
  {
   "cell_type": "code",
   "execution_count": 5,
   "id": "e2c60752",
   "metadata": {},
   "outputs": [
    {
     "name": "stdout",
     "output_type": "stream",
     "text": [
      "Hahahaha, you really thought that 1 was my secret code?\n"
     ]
    }
   ],
   "source": [
    "# You can import libraries anywhere, but usually this is done on the first cell\n",
    "import random\n",
    "\n",
    "# Generate a random number in the [0-10] range\n",
    "random_number = random.randint(0, 10)\n",
    "\n",
    "# Super secret number that you have to guess\n",
    "secret_number = 3*1 + (4**8+523123-123123)*(9 - 3**2)\n",
    "\n",
    "# If random_number is equal to secret_numer you win\n",
    "if random_number == secret_number:\n",
    "    print(f\"Wow! {name} you are a real hacker! How did you guess that my secret number was {secret_number}?\")\n",
    "else:\n",
    "    print(f\"Hahahaha, you really thought that {random_number} was my secret code?\")"
   ]
  },
  {
   "cell_type": "markdown",
   "id": "5380d5c8",
   "metadata": {},
   "source": [
    "Jupyter Notebooks can read and write to the filesystem, after all they are running on your PC:"
   ]
  },
  {
   "cell_type": "code",
   "execution_count": 6,
   "id": "ddc01f3f",
   "metadata": {},
   "outputs": [
    {
     "name": "stdout",
     "output_type": "stream",
     "text": [
      "[0]: This is just the first line of sample text.\n",
      "[1]: Jupyter Notebooks can access files relative to them.\n",
      "[2]: You can do this with any kind of data, such as json or images!\n"
     ]
    }
   ],
   "source": [
    "# Open a txt file that is in the same dir as this Notebook\n",
    "with open('text.txt', 'r') as f:\n",
    "    lines = f.readlines()\n",
    "    \n",
    "for line_number, line in enumerate(lines):\n",
    "    # Remove the \\n\n",
    "    line = line.strip()\n",
    "    print(f\"[{line_number}]: {line}\")\n"
   ]
  },
  {
   "cell_type": "markdown",
   "id": "d9d69bba",
   "metadata": {},
   "source": [
    "Lastly, this notebook has access to any library you have installed in your virtualenv:"
   ]
  },
  {
   "cell_type": "code",
   "execution_count": 7,
   "id": "1f2e1a00",
   "metadata": {
    "scrolled": true
   },
   "outputs": [
    {
     "name": "stdout",
     "output_type": "stream",
     "text": [
      "['absl-py==1.3.0', 'anyio==3.6.2', 'appdirs==1.4.4', 'argon2-cffi-bindings==21.2.0', 'argon2-cffi==21.3.0', 'asttokens==2.2.1', 'astunparse==1.6.3', 'attrs==22.2.0', 'backcall==0.2.0', 'beautifulsoup4==4.11.1', 'bleach==5.0.1', 'cachetools==5.2.0', 'certifi==2022.12.7', 'cffi==1.15.1', 'charset-normalizer==2.1.1', 'comm==0.1.2', 'contourpy==1.0.7', 'cycler==0.11.0', 'debugpy==1.6.5', 'decorator==5.1.1', 'defusedxml==0.7.1', 'entrypoints==0.4', 'executing==1.2.0', 'fastjsonschema==2.16.2', 'flatbuffers==22.12.6', 'fonttools==4.38.0', 'gast==0.4.0', 'google-auth-oauthlib==0.4.6', 'google-auth==2.15.0', 'google-pasta==0.2.0', 'grpcio==1.51.1', 'h5py==3.7.0', 'idna==3.4', 'importlib-metadata==5.2.0', 'importlib-resources==5.10.2', 'ipykernel==6.20.2', 'ipython-genutils==0.2.0', 'ipython==8.8.0', 'jedi==0.18.2', 'jinja2==3.1.2', 'jsonschema==4.17.3', 'jupyter-client==7.4.9', 'jupyter-core==5.1.3', 'jupyter-events==0.6.3', 'jupyter-server-terminals==0.4.4', 'jupyter-server==2.1.0', 'jupyterlab-pygments==0.2.2', 'keras==2.11.0', 'kiwisolver==1.4.4', 'libclang==14.0.6', 'markdown==3.4.1', 'markupsafe==2.1.1', 'matplotlib-inline==0.1.6', 'matplotlib==3.6.3', 'mistune==2.0.4', 'nbclassic==0.4.8', 'nbclient==0.7.2', 'nbconvert==7.2.8', 'nbformat==5.7.3', 'nest-asyncio==1.5.6', 'notebook-shim==0.2.2', 'notebook==6.5.2', 'numpy==1.24.0', 'oauthlib==3.2.2', 'opt-einsum==3.3.0', 'packaging==22.0', 'pandas==1.5.2', 'pandocfilters==1.5.0', 'parso==0.8.3', 'pexpect==4.8.0', 'pickleshare==0.7.5', 'pillow==9.4.0', 'pip==20.0.2', 'pkg-resources==0.0.0', 'pkgutil-resolve-name==1.3.10', 'platformdirs==2.6.2', 'pooch==1.6.0', 'prometheus-client==0.15.0', 'prompt-toolkit==3.0.36', 'protobuf==3.19.6', 'psutil==5.9.4', 'ptyprocess==0.7.0', 'pure-eval==0.2.2', 'pyasn1-modules==0.2.8', 'pyasn1==0.4.8', 'pycparser==2.21', 'pygments==2.14.0', 'pyparsing==3.0.9', 'pyrsistent==0.19.3', 'python-dateutil==2.8.2', 'python-json-logger==2.0.4', 'pytz==2022.7', 'pyyaml==6.0', 'pyzmq==25.0.0', 'requests-oauthlib==1.3.1', 'requests==2.28.1', 'rfc3339-validator==0.1.4', 'rfc3986-validator==0.1.1', 'rsa==4.9', 'scipy==1.10.0', 'send2trash==1.8.0', 'setuptools==44.0.0', 'six==1.16.0', 'sniffio==1.3.0', 'soupsieve==2.3.2.post1', 'stack-data==0.6.2', 'tensorboard-data-server==0.6.1', 'tensorboard-plugin-wit==1.8.1', 'tensorboard==2.11.0', 'tensorflow-estimator==2.11.0', 'tensorflow-io-gcs-filesystem==0.29.0', 'tensorflow==2.11.0', 'termcolor==2.1.1', 'terminado==0.17.1', 'tinycss2==1.2.1', 'tornado==6.2', 'traitlets==5.8.1', 'typing-extensions==4.4.0', 'urllib3==1.26.13', 'wcwidth==0.2.6', 'webencodings==0.5.1', 'websocket-client==1.4.2', 'werkzeug==2.2.2', 'wheel==0.38.4', 'wrapt==1.14.1', 'zipp==3.11.0']\n"
     ]
    }
   ],
   "source": [
    "# This code just get a list of everything that is installed on your virtualenv\n",
    "import pkg_resources\n",
    "\n",
    "installed_packages = pkg_resources.working_set\n",
    "installed_packages_list = sorted([\"%s==%s\" % (i.key, i.version) for i in installed_packages])\n",
    "\n",
    "print(installed_packages_list)"
   ]
  },
  {
   "cell_type": "markdown",
   "id": "7338717c",
   "metadata": {},
   "source": [
    "We will use Jupyter Notebooks extensively in our tutorials, feel free to stay and play around! In order to add new cells you can use the menu Insert -> Insert Cell Below!\n",
    "\n",
    "Have fun!"
   ]
  }
 ],
 "metadata": {
  "kernelspec": {
   "display_name": "Python 3 (ipykernel)",
   "language": "python",
   "name": "python3"
  },
  "language_info": {
   "codemirror_mode": {
    "name": "ipython",
    "version": 3
   },
   "file_extension": ".py",
   "mimetype": "text/x-python",
   "name": "python",
   "nbconvert_exporter": "python",
   "pygments_lexer": "ipython3",
   "version": "3.8.10"
  }
 },
 "nbformat": 4,
 "nbformat_minor": 5
}
